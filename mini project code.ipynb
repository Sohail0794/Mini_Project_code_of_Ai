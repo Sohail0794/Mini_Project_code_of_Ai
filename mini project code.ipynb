{
 "cells": [
  {
   "cell_type": "code",
   "execution_count": 1,
   "id": "de944ae8",
   "metadata": {
    "execution": {
     "iopub.execute_input": "2022-12-04T15:30:26.960409Z",
     "iopub.status.busy": "2022-12-04T15:30:26.959896Z",
     "iopub.status.idle": "2022-12-04T15:30:33.179745Z",
     "shell.execute_reply": "2022-12-04T15:30:33.178631Z"
    },
    "papermill": {
     "duration": 6.23274,
     "end_time": "2022-12-04T15:30:33.182863",
     "exception": false,
     "start_time": "2022-12-04T15:30:26.950123",
     "status": "completed"
    },
    "tags": []
   },
   "outputs": [],
   "source": [
    "import os\n",
    "from keras.models import Model\n",
    " \n",
    "from keras.applications.vgg16 import VGG16, preprocess_input\n",
    "from keras.preprocessing.image import ImageDataGenerator\n",
    "from keras.callbacks import ModelCheckpoint, EarlyStopping\n",
    "from keras.layers import Dense, Dropout, Flatten\n",
    "from pathlib import Path\n",
    "import numpy as np\n",
    "import os\n",
    "import keras\n",
    "import gc\n",
    "import cv2\n",
    "import json\n",
    "import math\n",
    "import scipy\n",
    "import itertools\n",
    "import numpy as np\n",
    "import pandas as pd\n",
    "import tensorflow as tf\n",
    "import matplotlib.pyplot as plt\n",
    "from PIL import Image\n",
    "from keras import layers\n",
    "from tensorflow.keras.applications import VGG19,NASNetLarge, ResNet101V2, DenseNet201,ResNet101, MobileNetV3Large,EfficientNetB7, InceptionV3,Xception,InceptionResNetV2\n",
    "from keras import layers\n",
    "from keras.layers import Dense,Dropout,Activation,Add,MaxPooling2D,Conv2D,Flatten,BatchNormalization,GlobalMaxPool2D\n",
    "from keras.callbacks import Callback, ModelCheckpoint, ReduceLROnPlateau, TensorBoard\n",
    "from keras.preprocessing.image import ImageDataGenerator\n",
    "from keras.preprocessing import image\n",
    "from keras.utils.np_utils import to_categorical\n",
    "from tensorflow.keras.models import Sequential\n",
    "from tensorflow.keras.optimizers import Adam\n",
    "from sklearn import metrics\n",
    "from sklearn.model_selection import train_test_split\n",
    "from sklearn.metrics import cohen_kappa_score, accuracy_score\n",
    "from tqdm import tqdm\n",
    "from keras import backend as K\n",
    "from functools import partial\n",
    "from collections import Counter\n",
    "from tensorflow.keras.callbacks import LearningRateScheduler"
   ]
  },
  {
   "cell_type": "code",
   "execution_count": 2,
   "id": "87be43e9",
   "metadata": {
    "execution": {
     "iopub.execute_input": "2022-12-04T15:30:33.193534Z",
     "iopub.status.busy": "2022-12-04T15:30:33.192984Z",
     "iopub.status.idle": "2022-12-04T15:30:33.198426Z",
     "shell.execute_reply": "2022-12-04T15:30:33.197381Z"
    },
    "papermill": {
     "duration": 0.012724,
     "end_time": "2022-12-04T15:30:33.200342",
     "exception": false,
     "start_time": "2022-12-04T15:30:33.187618",
     "status": "completed"
    },
    "tags": []
   },
   "outputs": [],
   "source": [
    "BATCH_SIZE = 32\n",
    "\n",
    " \n",
    "\n",
    "image_gen_train = ImageDataGenerator(rescale = 1./255)\n",
    "image_generator_validation = ImageDataGenerator(rescale=1./255)\n",
    "image_gen_test = ImageDataGenerator(rescale=1./255)"
   ]
  },
  {
   "cell_type": "code",
   "execution_count": 3,
   "id": "26f5b5d6",
   "metadata": {
    "execution": {
     "iopub.execute_input": "2022-12-04T15:30:33.211247Z",
     "iopub.status.busy": "2022-12-04T15:30:33.209698Z",
     "iopub.status.idle": "2022-12-04T15:30:36.555916Z",
     "shell.execute_reply": "2022-12-04T15:30:36.554217Z"
    },
    "papermill": {
     "duration": 3.35584,
     "end_time": "2022-12-04T15:30:36.560282",
     "exception": false,
     "start_time": "2022-12-04T15:30:33.204442",
     "status": "completed"
    },
    "tags": []
   },
   "outputs": [
    {
     "name": "stdout",
     "output_type": "stream",
     "text": [
      "Found 4946 images belonging to 2 classes.\n",
      "Found 120 images belonging to 2 classes.\n",
      "Found 126 images belonging to 2 classes.\n"
     ]
    }
   ],
   "source": [
    "#train_data_dir = '/kaggle/input/dataset/train'\n",
    "#val_data_dir = '/kaggle/input/dataset/val'\n",
    "#test_data_dir = '/kaggle/input/dataset/test'\n",
    "\n",
    "# Enhanced Dataaaset \n",
    "\n",
    "train_data_dir = '/kaggle/input/dataset/train'\n",
    "val_data_dir = '/kaggle/input/enhanced-data/Enhanced Data/val'\n",
    "test_data_dir = '/kaggle/input/enhanced-data/Enhanced Data/test'\n",
    "\n",
    "#class_subset = sorted(os.listdir(download_dir/'food-101/images'))[:2] # Using only the first 10 classes\n",
    "\n",
    "traingen = image_gen_train.flow_from_directory(train_data_dir,\n",
    "                                               target_size=(224, 224),\n",
    "                                               class_mode='categorical',\n",
    "                                               classes=None,\n",
    "\n",
    "                                                \n",
    "                                               batch_size=BATCH_SIZE, \n",
    "                                               shuffle=True\n",
    "                                                )\n",
    "\n",
    "validgen = image_generator_validation.flow_from_directory(val_data_dir,\n",
    "                                               target_size=(224, 224),\n",
    "                                               class_mode='categorical',\n",
    "                                               classes=None,\n",
    " \n",
    "                                                \n",
    "                                               batch_size=BATCH_SIZE,\n",
    "                                               shuffle=True,\n",
    "                                               )\n",
    "\n",
    "\n",
    " \n",
    "\n",
    "\n",
    "\n",
    "testgen = image_gen_test.flow_from_directory(test_data_dir,\n",
    "                                             target_size=(224, 224),\n",
    "                                             class_mode='categorical',\n",
    "                                             classes=None,\n",
    "\n",
    "                                             batch_size=BATCH_SIZE,\n",
    "                                             shuffle=False,\n",
    "                                            )"
   ]
  },
  {
   "cell_type": "code",
   "execution_count": 4,
   "id": "9047dc3a",
   "metadata": {
    "execution": {
     "iopub.execute_input": "2022-12-04T15:30:36.573850Z",
     "iopub.status.busy": "2022-12-04T15:30:36.573508Z",
     "iopub.status.idle": "2022-12-04T15:30:36.579151Z",
     "shell.execute_reply": "2022-12-04T15:30:36.578310Z"
    },
    "papermill": {
     "duration": 0.013563,
     "end_time": "2022-12-04T15:30:36.581090",
     "exception": false,
     "start_time": "2022-12-04T15:30:36.567527",
     "status": "completed"
    },
    "tags": []
   },
   "outputs": [],
   "source": [
    "Y_train = to_categorical(traingen.classes, num_classes= 2)\n",
    "Y_test = to_categorical(testgen.classes, num_classes= 2)\n",
    "Y_val = to_categorical(validgen.classes, num_classes= 2)"
   ]
  },
  {
   "cell_type": "code",
   "execution_count": 5,
   "id": "feeaa690",
   "metadata": {
    "execution": {
     "iopub.execute_input": "2022-12-04T15:30:36.591052Z",
     "iopub.status.busy": "2022-12-04T15:30:36.590795Z",
     "iopub.status.idle": "2022-12-04T15:30:36.601776Z",
     "shell.execute_reply": "2022-12-04T15:30:36.600783Z"
    },
    "papermill": {
     "duration": 0.018492,
     "end_time": "2022-12-04T15:30:36.603820",
     "exception": false,
     "start_time": "2022-12-04T15:30:36.585328",
     "status": "completed"
    },
    "tags": []
   },
   "outputs": [],
   "source": [
    "def create_model(input_shape, n_classes , optimizer='rmsprop', fine_tune=0,lr=1e-4):\n",
    "    \"\"\"\n",
    "    Compiles a model integrated with VGG16 pretrained layers\n",
    "    \n",
    "    input_shape: tuple - the shape of input images (width, height, channels)\n",
    "    n_classes: int - number of classes for the output layer\n",
    "    optimizer: string - instantiated optimizer to use for training. Defaults to 'RMSProp'\n",
    "    fine_tune: int - The number of pre-trained layers to unfreeze.\n",
    "                If set to 0, all pretrained layers will freeze during training\n",
    "    \"\"\"\n",
    "    \n",
    "    # Pretrained convolutional layers are loaded using the Imagenet weights.\n",
    "    # Include_top is set to False, in order to exclude the model's fully-connected layers.\n",
    "    conv_base = DenseNet201(include_top=False,\n",
    "                     weights='imagenet', \n",
    "                     input_shape=input_shape)\n",
    "    \n",
    "    # Defines how many layers to freeze during training.\n",
    "    # Layers in the convolutional base are switched from trainable to non-trainable\n",
    "    # depending on the size of the fine-tuning parameter.\n",
    "    if fine_tune > 0:\n",
    "        for layer in conv_base.layers[:-fine_tune]:\n",
    "            layer.trainable = False\n",
    "    else:\n",
    "        for layer in conv_base.layers:\n",
    "            layer.trainable = False\n",
    "\n",
    "    # Create a new 'top' of the model (i.e. fully-connected layers).\n",
    "    # This is 'bootstrapping' a new top_model onto the pretrained layers.\n",
    "    top_model = conv_base.output\n",
    "    #top_model= (Conv2D(8, (3, 3), padding=\"valid\", activation=\"relu\"))(top_model)\n",
    "    top_model= (BatchNormalization())(top_model)\n",
    "    top_model= (MaxPooling2D(pool_size=(2, 2),strides=(1, 1), padding=\"same\"))(top_model)\n",
    "    top_model= (Conv2D(32, (3, 3), padding=\"valid\", activation=\"relu\"))(top_model)\n",
    "    top_model= (BatchNormalization())(top_model)\n",
    "    top_model= (MaxPooling2D(pool_size=(2, 2),strides=(1, 1), padding=\"same\"))(top_model)\n",
    "    top_model= (Conv2D(64, (3, 3), padding=\"valid\", activation=\"relu\"))(top_model)\n",
    "    top_model= (BatchNormalization())(top_model)\n",
    "    top_model= (MaxPooling2D(pool_size=(2, 2),strides=(1, 1), padding=\"same\"))(top_model)\n",
    "    \n",
    "    \n",
    "    top_model = Flatten(name=\"flatten\")(top_model)\n",
    "    #top_model = Dense(4096, activation='relu')(top_model)\n",
    "    #top_model = Dense(4096, activation='relu')(top_model)\n",
    "    #top_model = Dense(64, activation='relu')(top_model)\n",
    "    #top_model = Dense(64, kernel_regularizer='l2')\n",
    "    top_model = Dropout(0.5)(top_model)\n",
    "    output_layer = Dense(n_classes, activation='sigmoid')(top_model)\n",
    "     \n",
    "    \n",
    "    # Group the convolutional base and new fully-connected layers into a Model object.\n",
    "    model = Model(inputs=conv_base.input, outputs=output_layer)\n",
    "    \n",
    "\n",
    "    # Compiles the model for training.\n",
    "    model.compile(optimizer=optimizer, \n",
    "                  loss='categorical_crossentropy',\n",
    "                  metrics=['accuracy'])\n",
    "    \n",
    "    return model"
   ]
  },
  {
   "cell_type": "code",
   "execution_count": 6,
   "id": "0856c576",
   "metadata": {
    "execution": {
     "iopub.execute_input": "2022-12-04T15:30:36.613368Z",
     "iopub.status.busy": "2022-12-04T15:30:36.613099Z",
     "iopub.status.idle": "2022-12-04T15:30:44.574939Z",
     "shell.execute_reply": "2022-12-04T15:30:44.574001Z"
    },
    "papermill": {
     "duration": 7.96996,
     "end_time": "2022-12-04T15:30:44.578005",
     "exception": false,
     "start_time": "2022-12-04T15:30:36.608045",
     "status": "completed"
    },
    "tags": []
   },
   "outputs": [
    {
     "name": "stderr",
     "output_type": "stream",
     "text": [
      "2022-12-04 15:30:36.726347: I tensorflow/stream_executor/cuda/cuda_gpu_executor.cc:937] successful NUMA node read from SysFS had negative value (-1), but there must be at least one NUMA node, so returning NUMA node zero\n",
      "2022-12-04 15:30:36.854712: I tensorflow/stream_executor/cuda/cuda_gpu_executor.cc:937] successful NUMA node read from SysFS had negative value (-1), but there must be at least one NUMA node, so returning NUMA node zero\n",
      "2022-12-04 15:30:36.855501: I tensorflow/stream_executor/cuda/cuda_gpu_executor.cc:937] successful NUMA node read from SysFS had negative value (-1), but there must be at least one NUMA node, so returning NUMA node zero\n",
      "2022-12-04 15:30:36.857351: I tensorflow/core/platform/cpu_feature_guard.cc:142] This TensorFlow binary is optimized with oneAPI Deep Neural Network Library (oneDNN) to use the following CPU instructions in performance-critical operations:  AVX2 AVX512F FMA\n",
      "To enable them in other operations, rebuild TensorFlow with the appropriate compiler flags.\n",
      "2022-12-04 15:30:36.857718: I tensorflow/stream_executor/cuda/cuda_gpu_executor.cc:937] successful NUMA node read from SysFS had negative value (-1), but there must be at least one NUMA node, so returning NUMA node zero\n",
      "2022-12-04 15:30:36.858672: I tensorflow/stream_executor/cuda/cuda_gpu_executor.cc:937] successful NUMA node read from SysFS had negative value (-1), but there must be at least one NUMA node, so returning NUMA node zero\n",
      "2022-12-04 15:30:36.859551: I tensorflow/stream_executor/cuda/cuda_gpu_executor.cc:937] successful NUMA node read from SysFS had negative value (-1), but there must be at least one NUMA node, so returning NUMA node zero\n",
      "2022-12-04 15:30:39.112812: I tensorflow/stream_executor/cuda/cuda_gpu_executor.cc:937] successful NUMA node read from SysFS had negative value (-1), but there must be at least one NUMA node, so returning NUMA node zero\n",
      "2022-12-04 15:30:39.113728: I tensorflow/stream_executor/cuda/cuda_gpu_executor.cc:937] successful NUMA node read from SysFS had negative value (-1), but there must be at least one NUMA node, so returning NUMA node zero\n",
      "2022-12-04 15:30:39.114444: I tensorflow/stream_executor/cuda/cuda_gpu_executor.cc:937] successful NUMA node read from SysFS had negative value (-1), but there must be at least one NUMA node, so returning NUMA node zero\n",
      "2022-12-04 15:30:39.115153: I tensorflow/core/common_runtime/gpu/gpu_device.cc:1510] Created device /job:localhost/replica:0/task:0/device:GPU:0 with 15401 MB memory:  -> device: 0, name: Tesla P100-PCIE-16GB, pci bus id: 0000:00:04.0, compute capability: 6.0\n"
     ]
    },
    {
     "name": "stdout",
     "output_type": "stream",
     "text": [
      "Downloading data from https://storage.googleapis.com/tensorflow/keras-applications/densenet/densenet201_weights_tf_dim_ordering_tf_kernels_notop.h5\n",
      "74842112/74836368 [==============================] - 0s 0us/step\n",
      "74850304/74836368 [==============================] - 0s 0us/step\n"
     ]
    }
   ],
   "source": [
    "input_shape = (224, 224, 3)\n",
    "optim_1 = Adam(learning_rate=0.001)\n",
    "n_classes=2\n",
    "\n",
    "n_steps = traingen.samples // BATCH_SIZE\n",
    "n_val_steps = validgen.samples // BATCH_SIZE\n",
    "n_epochs = 50\n",
    "\n",
    "# First we'll train the model without Fine-tuning\n",
    "vgg_model = create_model(input_shape, n_classes, optim_1, fine_tune=0)"
   ]
  },
  {
   "cell_type": "code",
   "execution_count": 7,
   "id": "86b6fa21",
   "metadata": {
    "execution": {
     "iopub.execute_input": "2022-12-04T15:30:44.591070Z",
     "iopub.status.busy": "2022-12-04T15:30:44.589435Z",
     "iopub.status.idle": "2022-12-04T15:30:44.595402Z",
     "shell.execute_reply": "2022-12-04T15:30:44.594462Z"
    },
    "papermill": {
     "duration": 0.014447,
     "end_time": "2022-12-04T15:30:44.597745",
     "exception": false,
     "start_time": "2022-12-04T15:30:44.583298",
     "status": "completed"
    },
    "tags": []
   },
   "outputs": [],
   "source": [
    "\n",
    "learn_control = ReduceLROnPlateau(monitor='val_acc', \n",
    "                                            patience=5, \n",
    "                                            verbose=1, \n",
    "                                            factor=0.2, \n",
    "                                            min_lr=1e-6)\n",
    " \n",
    "\n",
    "# EarlyStopping\n",
    "early_stop = EarlyStopping(monitor='val_loss',\n",
    "                           patience=20,\n",
    "                           restore_best_weights=True,\n",
    "                           mode='min')"
   ]
  },
  {
   "cell_type": "code",
   "execution_count": 8,
   "id": "a65b2367",
   "metadata": {
    "execution": {
     "iopub.execute_input": "2022-12-04T15:30:44.608875Z",
     "iopub.status.busy": "2022-12-04T15:30:44.608584Z",
     "iopub.status.idle": "2022-12-04T15:30:44.613756Z",
     "shell.execute_reply": "2022-12-04T15:30:44.612912Z"
    },
    "papermill": {
     "duration": 0.013243,
     "end_time": "2022-12-04T15:30:44.615929",
     "exception": false,
     "start_time": "2022-12-04T15:30:44.602686",
     "status": "completed"
    },
    "tags": []
   },
   "outputs": [],
   "source": [
    "callbacks=[early_stop,learn_control]"
   ]
  },
  {
   "cell_type": "code",
   "execution_count": 9,
   "id": "38f4bfb8",
   "metadata": {
    "execution": {
     "iopub.execute_input": "2022-12-04T15:30:44.627322Z",
     "iopub.status.busy": "2022-12-04T15:30:44.627034Z",
     "iopub.status.idle": "2022-12-04T17:12:48.937054Z",
     "shell.execute_reply": "2022-12-04T17:12:48.936034Z"
    },
    "papermill": {
     "duration": 6124.318766,
     "end_time": "2022-12-04T17:12:48.939983",
     "exception": false,
     "start_time": "2022-12-04T15:30:44.621217",
     "status": "completed"
    },
    "tags": []
   },
   "outputs": [
    {
     "name": "stderr",
     "output_type": "stream",
     "text": [
      "2022-12-04 15:30:45.481884: I tensorflow/compiler/mlir/mlir_graph_optimization_pass.cc:185] None of the MLIR Optimization Passes are enabled (registered 2)\n"
     ]
    },
    {
     "name": "stdout",
     "output_type": "stream",
     "text": [
      "Epoch 1/50\n"
     ]
    },
    {
     "name": "stderr",
     "output_type": "stream",
     "text": [
      "2022-12-04 15:30:56.197593: I tensorflow/stream_executor/cuda/cuda_dnn.cc:369] Loaded cuDNN version 8005\n"
     ]
    },
    {
     "name": "stdout",
     "output_type": "stream",
     "text": [
      "154/154 [==============================] - 169s 987ms/step - loss: 0.6465 - accuracy: 0.7605 - val_loss: 0.3138 - val_accuracy: 0.8229\n",
      "Epoch 2/50\n",
      "154/154 [==============================] - 106s 686ms/step - loss: 0.2754 - accuracy: 0.8923 - val_loss: 0.1232 - val_accuracy: 0.9479\n",
      "Epoch 3/50\n",
      "154/154 [==============================] - 106s 685ms/step - loss: 0.1599 - accuracy: 0.9404 - val_loss: 0.0767 - val_accuracy: 0.9688\n",
      "Epoch 4/50\n",
      "154/154 [==============================] - 105s 681ms/step - loss: 0.1146 - accuracy: 0.9579 - val_loss: 0.0595 - val_accuracy: 0.9792\n",
      "Epoch 5/50\n",
      "154/154 [==============================] - 106s 685ms/step - loss: 0.0940 - accuracy: 0.9695 - val_loss: 0.0494 - val_accuracy: 0.9792\n",
      "Epoch 6/50\n",
      "154/154 [==============================] - 106s 688ms/step - loss: 0.0693 - accuracy: 0.9750 - val_loss: 0.1806 - val_accuracy: 0.9375\n",
      "Epoch 7/50\n",
      "154/154 [==============================] - 105s 683ms/step - loss: 0.0678 - accuracy: 0.9770 - val_loss: 0.0889 - val_accuracy: 0.9688\n",
      "Epoch 8/50\n",
      "154/154 [==============================] - 106s 692ms/step - loss: 0.0573 - accuracy: 0.9807 - val_loss: 0.0190 - val_accuracy: 0.9896\n",
      "Epoch 9/50\n",
      "154/154 [==============================] - 105s 680ms/step - loss: 0.0393 - accuracy: 0.9843 - val_loss: 0.0168 - val_accuracy: 1.0000\n",
      "Epoch 10/50\n",
      "154/154 [==============================] - 104s 675ms/step - loss: 0.0414 - accuracy: 0.9862 - val_loss: 0.0441 - val_accuracy: 0.9792\n",
      "Epoch 11/50\n",
      "154/154 [==============================] - 106s 685ms/step - loss: 0.0431 - accuracy: 0.9856 - val_loss: 0.0321 - val_accuracy: 0.9896\n",
      "Epoch 12/50\n",
      "154/154 [==============================] - 105s 677ms/step - loss: 0.0431 - accuracy: 0.9831 - val_loss: 0.1079 - val_accuracy: 0.9896\n",
      "Epoch 13/50\n",
      "154/154 [==============================] - 109s 710ms/step - loss: 0.0368 - accuracy: 0.9874 - val_loss: 0.0411 - val_accuracy: 0.9896\n",
      "Epoch 14/50\n",
      "154/154 [==============================] - 105s 680ms/step - loss: 0.0299 - accuracy: 0.9896 - val_loss: 0.0724 - val_accuracy: 0.9792\n",
      "Epoch 15/50\n",
      "154/154 [==============================] - 105s 682ms/step - loss: 0.0341 - accuracy: 0.9886 - val_loss: 0.3588 - val_accuracy: 0.9271\n",
      "Epoch 16/50\n",
      "154/154 [==============================] - 109s 707ms/step - loss: 0.0423 - accuracy: 0.9866 - val_loss: 0.0688 - val_accuracy: 0.9688\n",
      "Epoch 17/50\n",
      "154/154 [==============================] - 105s 682ms/step - loss: 0.0323 - accuracy: 0.9888 - val_loss: 0.0675 - val_accuracy: 0.9792\n",
      "Epoch 18/50\n",
      "154/154 [==============================] - 105s 683ms/step - loss: 0.0257 - accuracy: 0.9915 - val_loss: 0.0497 - val_accuracy: 0.9792\n",
      "Epoch 19/50\n",
      "154/154 [==============================] - 105s 683ms/step - loss: 0.0177 - accuracy: 0.9937 - val_loss: 0.0853 - val_accuracy: 0.9792\n",
      "Epoch 20/50\n",
      "154/154 [==============================] - 104s 677ms/step - loss: 0.0304 - accuracy: 0.9892 - val_loss: 0.1406 - val_accuracy: 0.9583\n",
      "Epoch 21/50\n",
      "154/154 [==============================] - 106s 685ms/step - loss: 0.0361 - accuracy: 0.9858 - val_loss: 0.0612 - val_accuracy: 0.9688\n",
      "Epoch 22/50\n",
      "154/154 [==============================] - 106s 686ms/step - loss: 0.0282 - accuracy: 0.9898 - val_loss: 0.0671 - val_accuracy: 0.9583\n",
      "Epoch 23/50\n",
      "154/154 [==============================] - 105s 681ms/step - loss: 0.0219 - accuracy: 0.9917 - val_loss: 0.1232 - val_accuracy: 0.9583\n",
      "Epoch 24/50\n",
      "154/154 [==============================] - 106s 686ms/step - loss: 0.0296 - accuracy: 0.9888 - val_loss: 0.0793 - val_accuracy: 0.9583\n",
      "Epoch 25/50\n",
      "154/154 [==============================] - 105s 679ms/step - loss: 0.0187 - accuracy: 0.9937 - val_loss: 0.0303 - val_accuracy: 0.9792\n",
      "Epoch 26/50\n",
      "154/154 [==============================] - 106s 686ms/step - loss: 0.0194 - accuracy: 0.9908 - val_loss: 0.0955 - val_accuracy: 0.9688\n",
      "Epoch 27/50\n",
      "154/154 [==============================] - 106s 691ms/step - loss: 0.0329 - accuracy: 0.9894 - val_loss: 0.1671 - val_accuracy: 0.9479\n",
      "Epoch 28/50\n",
      "154/154 [==============================] - 106s 690ms/step - loss: 0.0206 - accuracy: 0.9912 - val_loss: 0.0403 - val_accuracy: 0.9792\n",
      "Epoch 29/50\n",
      "154/154 [==============================] - 108s 705ms/step - loss: 0.0318 - accuracy: 0.9890 - val_loss: 0.0083 - val_accuracy: 1.0000\n",
      "Epoch 30/50\n",
      "154/154 [==============================] - 106s 688ms/step - loss: 0.0221 - accuracy: 0.9921 - val_loss: 0.0650 - val_accuracy: 0.9792\n",
      "Epoch 31/50\n",
      "154/154 [==============================] - 106s 688ms/step - loss: 0.0176 - accuracy: 0.9919 - val_loss: 0.1095 - val_accuracy: 0.9792\n",
      "Epoch 32/50\n",
      "154/154 [==============================] - 106s 688ms/step - loss: 0.0220 - accuracy: 0.9915 - val_loss: 0.1505 - val_accuracy: 0.9688\n",
      "Epoch 33/50\n",
      "154/154 [==============================] - 107s 692ms/step - loss: 0.0223 - accuracy: 0.9915 - val_loss: 0.1668 - val_accuracy: 0.9583\n",
      "Epoch 34/50\n",
      "154/154 [==============================] - 106s 685ms/step - loss: 0.0159 - accuracy: 0.9943 - val_loss: 0.1411 - val_accuracy: 0.9688\n",
      "Epoch 35/50\n",
      "154/154 [==============================] - 107s 696ms/step - loss: 0.0284 - accuracy: 0.9912 - val_loss: 0.0433 - val_accuracy: 0.9688\n",
      "Epoch 36/50\n",
      "154/154 [==============================] - 107s 690ms/step - loss: 0.0194 - accuracy: 0.9937 - val_loss: 0.1175 - val_accuracy: 0.9583\n",
      "Epoch 37/50\n",
      "154/154 [==============================] - 107s 696ms/step - loss: 0.0176 - accuracy: 0.9929 - val_loss: 0.1286 - val_accuracy: 0.9688\n",
      "Epoch 38/50\n",
      "154/154 [==============================] - 106s 686ms/step - loss: 0.0146 - accuracy: 0.9929 - val_loss: 0.1479 - val_accuracy: 0.9688\n",
      "Epoch 39/50\n",
      "154/154 [==============================] - 107s 692ms/step - loss: 0.0220 - accuracy: 0.9919 - val_loss: 0.1617 - val_accuracy: 0.9688\n",
      "Epoch 40/50\n",
      "154/154 [==============================] - 106s 685ms/step - loss: 0.0242 - accuracy: 0.9890 - val_loss: 0.1925 - val_accuracy: 0.9688\n",
      "Epoch 41/50\n",
      "154/154 [==============================] - 106s 688ms/step - loss: 0.0175 - accuracy: 0.9937 - val_loss: 0.2000 - val_accuracy: 0.9375\n",
      "Epoch 42/50\n",
      "154/154 [==============================] - 105s 683ms/step - loss: 0.0261 - accuracy: 0.9898 - val_loss: 0.1624 - val_accuracy: 0.9583\n",
      "Epoch 43/50\n",
      "154/154 [==============================] - 106s 688ms/step - loss: 0.0214 - accuracy: 0.9923 - val_loss: 0.2230 - val_accuracy: 0.9375\n",
      "Epoch 44/50\n",
      "154/154 [==============================] - 107s 696ms/step - loss: 0.0151 - accuracy: 0.9941 - val_loss: 0.0209 - val_accuracy: 0.9896\n",
      "Epoch 45/50\n",
      "154/154 [==============================] - 107s 693ms/step - loss: 0.0118 - accuracy: 0.9949 - val_loss: 0.1718 - val_accuracy: 0.9479\n",
      "Epoch 46/50\n",
      "154/154 [==============================] - 107s 692ms/step - loss: 0.0164 - accuracy: 0.9935 - val_loss: 0.1167 - val_accuracy: 0.9583\n",
      "Epoch 47/50\n",
      "154/154 [==============================] - 107s 694ms/step - loss: 0.0167 - accuracy: 0.9919 - val_loss: 0.0981 - val_accuracy: 0.9583\n",
      "Epoch 48/50\n",
      "154/154 [==============================] - 107s 691ms/step - loss: 0.0159 - accuracy: 0.9935 - val_loss: 0.1251 - val_accuracy: 0.9583\n",
      "Epoch 49/50\n",
      "154/154 [==============================] - 107s 692ms/step - loss: 0.0160 - accuracy: 0.9933 - val_loss: 0.0962 - val_accuracy: 0.9583\n"
     ]
    }
   ],
   "source": [
    "vgg_classifier = vgg_model.fit(traingen,\n",
    "                            batch_size=BATCH_SIZE,\n",
    "                            epochs=n_epochs,\n",
    "                            validation_data=validgen,\n",
    "                            steps_per_epoch=n_steps,\n",
    "                            validation_steps=n_val_steps,callbacks=[early_stop,learn_control]\n",
    "                              )"
   ]
  },
  {
   "cell_type": "code",
   "execution_count": 10,
   "id": "f81616a6",
   "metadata": {
    "execution": {
     "iopub.execute_input": "2022-12-04T17:12:49.736290Z",
     "iopub.status.busy": "2022-12-04T17:12:49.735920Z",
     "iopub.status.idle": "2022-12-04T17:12:50.885077Z",
     "shell.execute_reply": "2022-12-04T17:12:50.884076Z"
    },
    "papermill": {
     "duration": 1.547688,
     "end_time": "2022-12-04T17:12:50.887690",
     "exception": false,
     "start_time": "2022-12-04T17:12:49.340002",
     "status": "completed"
    },
    "tags": []
   },
   "outputs": [],
   "source": [
    "vgg_model.save('DensNET201,Enhance(1).h5')\n",
    " "
   ]
  },
  {
   "cell_type": "code",
   "execution_count": 11,
   "id": "b303aebf",
   "metadata": {
    "execution": {
     "iopub.execute_input": "2022-12-04T17:12:51.729002Z",
     "iopub.status.busy": "2022-12-04T17:12:51.728629Z",
     "iopub.status.idle": "2022-12-04T17:12:56.451932Z",
     "shell.execute_reply": "2022-12-04T17:12:56.450999Z"
    },
    "papermill": {
     "duration": 5.172621,
     "end_time": "2022-12-04T17:12:56.453982",
     "exception": false,
     "start_time": "2022-12-04T17:12:51.281361",
     "status": "completed"
    },
    "tags": []
   },
   "outputs": [
    {
     "data": {
      "image/png": "[encoded data removed]",
      "text/plain": [
       "<Figure size 432x288 with 1 Axes>"
      ]
     },
     "metadata": {},
     "output_type": "display_data"
    },
    {
     "data": {
      "image/png": "[encoded data removed]",
      "text/plain": [
       "<Figure size 432x288 with 1 Axes>"
      ]
     },
     "metadata": {},
     "output_type": "display_data"
    }
   ],
   "source": [
    " #plotting training values\n",
    "import matplotlib.pyplot as plt\n",
    "import seaborn as sns\n",
    "sns.set()\n",
    "\n",
    "accuracy =vgg_classifier.history['accuracy']\n",
    "val_accuracy = vgg_classifier.history['val_accuracy']\n",
    "loss = vgg_classifier.history['loss']\n",
    "val_loss = vgg_classifier.history['val_loss']\n",
    "epochs = range(1, len(loss) + 1)\n",
    "\n",
    "#accuracy plot\n",
    "plt.plot(epochs, accuracy, color='b', label='Training Accuracy')\n",
    "plt.plot(epochs, val_accuracy, color='r', label='Validation Accuracy')\n",
    "plt.title('Training and Validation Accuracy')\n",
    "plt.ylabel('Accuracy')\n",
    "plt.xlabel('Epoch')\n",
    "plt.legend()\n",
    "plt.savefig('Xception Training',dpi=1000,bbox_inches='tight')\n",
    "\n",
    "plt.figure()\n",
    "\n",
    "\n",
    "#loss plot\n",
    "plt.plot(epochs, loss, color='g', label='Training Loss')\n",
    "plt.plot(epochs, val_loss, color='y', label='Validation Loss')\n",
    "plt.title('Training and Validation Loss')\n",
    "plt.xlabel('Epoch')\n",
    "plt.ylabel('Loss')\n",
    "plt.legend()\n",
    "plt.savefig('Xception Loss',dpi=1000,bbox_inches='tight')\n",
    "plt.show()\n",
    " "
   ]
  },
  {
   "cell_type": "code",
   "execution_count": 12,
   "id": "1fdc35ce",
   "metadata": {
    "execution": {
     "iopub.execute_input": "2022-12-04T17:12:57.319807Z",
     "iopub.status.busy": "2022-12-04T17:12:57.319409Z",
     "iopub.status.idle": "2022-12-04T17:13:05.918331Z",
     "shell.execute_reply": "2022-12-04T17:13:05.917320Z"
    },
    "papermill": {
     "duration": 9.046243,
     "end_time": "2022-12-04T17:13:05.920923",
     "exception": false,
     "start_time": "2022-12-04T17:12:56.874680",
     "status": "completed"
    },
    "tags": []
   },
   "outputs": [],
   "source": [
    "# Generate predictions\n",
    "#vgg_model.load_weights('weights.best.hdf5') # initialize the best trained weights\n",
    "\n",
    "true_classes = testgen.classes\n",
    "class_indices = testgen.class_indices\n",
    "class_indices = dict((v,k) for k,v in class_indices.items())\n",
    "\n",
    "vgg_preds = vgg_model.predict(testgen)\n",
    "vgg_pred_classes = np.argmax(vgg_preds, axis=1)"
   ]
  },
  {
   "cell_type": "code",
   "execution_count": 13,
   "id": "369c03c6",
   "metadata": {
    "execution": {
     "iopub.execute_input": "2022-12-04T17:13:06.715331Z",
     "iopub.status.busy": "2022-12-04T17:13:06.714367Z",
     "iopub.status.idle": "2022-12-04T17:13:06.723414Z",
     "shell.execute_reply": "2022-12-04T17:13:06.721406Z"
    },
    "papermill": {
     "duration": 0.413949,
     "end_time": "2022-12-04T17:13:06.728416",
     "exception": false,
     "start_time": "2022-12-04T17:13:06.314467",
     "status": "completed"
    },
    "tags": []
   },
   "outputs": [
    {
     "name": "stdout",
     "output_type": "stream",
     "text": [
      "Test Accuracy: 96.03%\n"
     ]
    }
   ],
   "source": [
    "from sklearn.metrics import accuracy_score\n",
    "\n",
    "vgg_acc = accuracy_score(true_classes, vgg_pred_classes)\n",
    " \n",
    "print(\"Test Accuracy: {:.2f}%\".format(vgg_acc * 100))"
   ]
  },
  {
   "cell_type": "code",
   "execution_count": 14,
   "id": "035456dd",
   "metadata": {
    "execution": {
     "iopub.execute_input": "2022-12-04T17:13:07.584525Z",
     "iopub.status.busy": "2022-12-04T17:13:07.584128Z",
     "iopub.status.idle": "2022-12-04T17:13:10.620887Z",
     "shell.execute_reply": "2022-12-04T17:13:10.619975Z"
    },
    "papermill": {
     "duration": 3.448041,
     "end_time": "2022-12-04T17:13:10.622997",
     "exception": false,
     "start_time": "2022-12-04T17:13:07.174956",
     "status": "completed"
    },
    "tags": []
   },
   "outputs": [
    {
     "name": "stderr",
     "output_type": "stream",
     "text": [
      "/opt/conda/lib/python3.7/site-packages/keras/engine/training.py:2035: UserWarning: `Model.predict_generator` is deprecated and will be removed in a future version. Please use `Model.predict`, which supports generators.\n",
      "  warnings.warn('`Model.predict_generator` is deprecated and '\n"
     ]
    },
    {
     "data": {
      "text/plain": [
       "0.9603174603174603"
      ]
     },
     "execution_count": 14,
     "metadata": {},
     "output_type": "execute_result"
    }
   ],
   "source": [
    "testgen.reset()\n",
    "Y_pred = vgg_model.predict_generator(testgen,BATCH_SIZE)\n",
    "accuracy_score(np.argmax(Y_test, axis=1), np.argmax(Y_pred, axis=1))"
   ]
  },
  {
   "cell_type": "code",
   "execution_count": 15,
   "id": "0462f8e2",
   "metadata": {
    "execution": {
     "iopub.execute_input": "2022-12-04T17:13:11.419017Z",
     "iopub.status.busy": "2022-12-04T17:13:11.418635Z",
     "iopub.status.idle": "2022-12-04T17:13:13.642010Z",
     "shell.execute_reply": "2022-12-04T17:13:13.641139Z"
    },
    "papermill": {
     "duration": 2.624632,
     "end_time": "2022-12-04T17:13:13.644181",
     "exception": false,
     "start_time": "2022-12-04T17:13:11.019549",
     "status": "completed"
    },
    "tags": []
   },
   "outputs": [
    {
     "name": "stdout",
     "output_type": "stream",
     "text": [
      "Confusion matrix, without normalization\n",
      "[[30  1]\n",
      " [ 4 91]]\n"
     ]
    },
    {
     "data": {
      "image/png": "[encoded data removed]",
      "text/plain": [
       "<Figure size 432x288 with 2 Axes>"
      ]
     },
     "metadata": {},
     "output_type": "display_data"
    }
   ],
   "source": [
    " \n",
    "\n",
    "from sklearn.metrics import confusion_matrix\n",
    "\n",
    "def plot_confusion_matrix(cm, classes,\n",
    "                          normalize=False,\n",
    "                          title='Confusion matrix',\n",
    "                          cmap=plt.cm.Blues):\n",
    "    if normalize:\n",
    "        cm = cm.astype('float') / cm.sum(axis=1)[:, np.newaxis]\n",
    "        print(\"Normalized confusion matrix\")\n",
    "    else:\n",
    "        print('Confusion matrix, without normalization')\n",
    "\n",
    "    print(cm)\n",
    "\n",
    "    plt.imshow(cm, interpolation='nearest', cmap=cmap)\n",
    "    plt.title(title)\n",
    "    plt.colorbar() \n",
    "    tick_marks = np.arange(len(classes))\n",
    "    plt.xticks(tick_marks, classes, rotation=45)\n",
    "    plt.yticks(tick_marks, classes ,rotation=90)\n",
    "    fmt = '.2f' if normalize else 'd'\n",
    "    thresh = cm.max() / 2.\n",
    "    for i, j in itertools.product(range(cm.shape[0]), range(cm.shape[1])):\n",
    "        plt.text(j, i, format(cm[i, j], fmt),\n",
    "                 horizontalalignment=\"center\",\n",
    "                 color=\"white\" if cm[i, j] > thresh else \"black\")\n",
    "\n",
    "    plt.ylabel('True label')\n",
    "    plt.xlabel('Predicted label')\n",
    "    plt.tight_layout()\n",
    "\n",
    "cm = confusion_matrix(np.argmax(Y_test, axis=1), np.argmax(vgg_preds, axis=1))\n",
    "\n",
    "cm_plot_label =['Normal', 'OSSC']\n",
    "plot_confusion_matrix(cm, cm_plot_label, title ='        DenseNet201')\n",
    "plt.savefig('Confusion Matric12',dpi=1000,bbox_inches='tight')"
   ]
  },
  {
   "cell_type": "markdown",
   "id": "9bf0dddd",
   "metadata": {
    "papermill": {
     "duration": 0.40391,
     "end_time": "2022-12-04T17:13:14.499317",
     "exception": false,
     "start_time": "2022-12-04T17:13:14.095407",
     "status": "completed"
    },
    "tags": []
   },
   "source": [
    "**ROC**"
   ]
  },
  {
   "cell_type": "code",
   "execution_count": 16,
   "id": "36ddbe58",
   "metadata": {
    "execution": {
     "iopub.execute_input": "2022-12-04T17:13:15.320389Z",
     "iopub.status.busy": "2022-12-04T17:13:15.320001Z",
     "iopub.status.idle": "2022-12-04T17:13:22.874662Z",
     "shell.execute_reply": "2022-12-04T17:13:22.873676Z"
    },
    "papermill": {
     "duration": 7.975445,
     "end_time": "2022-12-04T17:13:22.876769",
     "exception": false,
     "start_time": "2022-12-04T17:13:14.901324",
     "status": "completed"
    },
    "tags": []
   },
   "outputs": [
    {
     "data": {
      "image/png": "[encoded data removed]",
      "text/plain": [
       "<Figure size 432x288 with 1 Axes>"
      ]
     },
     "metadata": {},
     "output_type": "display_data"
    }
   ],
   "source": [
    "from sklearn.metrics import roc_auc_score, auc\n",
    "from sklearn.metrics import roc_curve\n",
    "roc_log = roc_auc_score(np.argmax(Y_test, axis=1), np.argmax(vgg_preds, axis=1))\n",
    "false_positive_rate, true_positive_rate, threshold = roc_curve(np.argmax(Y_test, axis=1), np.argmax(vgg_preds, axis=1))\n",
    "area_under_curve = auc(false_positive_rate, true_positive_rate)\n",
    "\n",
    "plt.plot([0, 1], [0, 1], 'r--')\n",
    "plt.plot(false_positive_rate, true_positive_rate, label='AUC = {:.3f}'.format(area_under_curve))\n",
    "plt.xlabel('False positive rate')\n",
    "plt.ylabel('True positive rate')\n",
    "plt.title('ROC curve')\n",
    "plt.legend(loc='best')\n",
    "plt.savefig('ROC2',dpi=2000,bbox_inches='tight')\n",
    "plt.show()\n",
    "plt.close()"
   ]
  },
  {
   "cell_type": "code",
   "execution_count": 17,
   "id": "79f61365",
   "metadata": {
    "execution": {
     "iopub.execute_input": "2022-12-04T17:13:23.719585Z",
     "iopub.status.busy": "2022-12-04T17:13:23.719198Z",
     "iopub.status.idle": "2022-12-04T17:13:23.730219Z",
     "shell.execute_reply": "2022-12-04T17:13:23.729235Z"
    },
    "papermill": {
     "duration": 0.402972,
     "end_time": "2022-12-04T17:13:23.732422",
     "exception": false,
     "start_time": "2022-12-04T17:13:23.329450",
     "status": "completed"
    },
    "tags": []
   },
   "outputs": [
    {
     "name": "stdout",
     "output_type": "stream",
     "text": [
      "              precision    recall  f1-score   support\n",
      "\n",
      "           0       0.88      0.97      0.92        31\n",
      "           1       0.99      0.96      0.97        95\n",
      "\n",
      "    accuracy                           0.96       126\n",
      "   macro avg       0.94      0.96      0.95       126\n",
      "weighted avg       0.96      0.96      0.96       126\n",
      "\n"
     ]
    }
   ],
   "source": [
    "from sklearn.metrics import classification_report\n",
    "print(classification_report( np.argmax(Y_test, axis=1), np.argmax(vgg_preds, axis=1)))"
   ]
  },
  {
   "cell_type": "code",
   "execution_count": null,
   "id": "ba4d3266",
   "metadata": {
    "papermill": {
     "duration": 0.397663,
     "end_time": "2022-12-04T17:13:24.582336",
     "exception": false,
     "start_time": "2022-12-04T17:13:24.184673",
     "status": "completed"
    },
    "tags": []
   },
   "outputs": [],
   "source": []
  }
 ],
 "metadata": {
  "kernelspec": {
   "display_name": "Python 3 (ipykernel)",
   "language": "python",
   "name": "python3"
  },
  "language_info": {
   "codemirror_mode": {
    "name": "ipython",
    "version": 3
   },
   "file_extension": ".py",
   "mimetype": "text/x-python",
   "name": "python",
   "nbconvert_exporter": "python",
   "pygments_lexer": "ipython3",
   "version": "3.11.4"
  },
  "papermill": {
   "default_parameters": {},
   "duration": 6189.356939,
   "end_time": "2022-12-04T17:13:28.617715",
   "environment_variables": {},
   "exception": null,
   "input_path": "__notebook__.ipynb",
   "output_path": "__notebook__.ipynb",
   "parameters": {},
   "start_time": "2022-12-04T15:30:19.260776",
   "version": "2.3.4"
  }
 },
 "nbformat": 4,
 "nbformat_minor": 5
}
